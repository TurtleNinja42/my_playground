{
 "cells": [
  {
   "cell_type": "code",
   "execution_count": 4,
   "id": "ed686ae8-8fe5-4bec-b3f1-f607b31eb159",
   "metadata": {},
   "outputs": [
    {
     "name": "stdout",
     "output_type": "stream",
     "text": [
      "Hi, what's your name?\n"
     ]
    },
    {
     "name": "stdin",
     "output_type": "stream",
     "text": [
      " Seven\n"
     ]
    },
    {
     "name": "stdout",
     "output_type": "stream",
     "text": [
      "Hello, Seven! Glad to see you!\n"
     ]
    }
   ],
   "source": [
    "print(\"Hi, what's your name?\")\n",
    "name = input()\n",
    "print(f\"Hello, {name}! Glad to see you!\")"
   ]
  },
  {
   "cell_type": "code",
   "execution_count": 10,
   "id": "c8f42ef4-fef4-49a4-ae7f-ab505246454c",
   "metadata": {},
   "outputs": [
    {
     "name": "stdout",
     "output_type": "stream",
     "text": [
      "How are you feeling today?\n"
     ]
    },
    {
     "name": "stdin",
     "output_type": "stream",
     "text": [
      " Fine.\n"
     ]
    },
    {
     "name": "stdout",
     "output_type": "stream",
     "text": [
      "I'm feeling good too.\n"
     ]
    }
   ],
   "source": [
    "print(\"How are you feeling today?\")\n",
    "feeling = input()\n",
    "if ('good' in feeling.lower()) or ('fine' in feeling.lower()):\n",
    "    print(\"I'm feeling good too.\")\n",
    "else:\n",
    "    print('Oh, sorry to hear that.')"
   ]
  },
  {
   "cell_type": "code",
   "execution_count": 10,
   "id": "e3ad9eee-19d6-48ec-9ec5-e0bf33fcf76e",
   "metadata": {},
   "outputs": [
    {
     "name": "stdout",
     "output_type": "stream",
     "text": [
      "What's your favorite color?\n"
     ]
    },
    {
     "name": "stdin",
     "output_type": "stream",
     "text": [
      " red\n"
     ]
    },
    {
     "name": "stdout",
     "output_type": "stream",
     "text": [
      "You like red? What a nice color! My favorite color is yellow.\n"
     ]
    }
   ],
   "source": [
    "import random\n",
    "\n",
    "print(\"What's your favorite color?\")\n",
    "favcolor = input()\n",
    "\n",
    "colors = ['red', 'orange', 'yellow', 'green', 'blue', 'indigo', 'purple']\n",
    "print(f\"You like {favcolor.lower()}? What a nice color! My favorite color is {random.choice(colors)}.\")"
   ]
  },
  {
   "cell_type": "code",
   "execution_count": 13,
   "id": "353c8e2a-8b61-4c75-b9c1-866f68a86bac",
   "metadata": {},
   "outputs": [],
   "source": [
    "class Hello:\n",
    "    def run(self):\n",
    "        print(\"Hi, what's your name?\")\n",
    "        name = input()\n",
    "        print(f\"Hello, {name}! Glad to see you!\")"
   ]
  },
  {
   "cell_type": "code",
   "execution_count": 14,
   "id": "cc4a8b66-f170-4ecf-8f7b-63868afced05",
   "metadata": {},
   "outputs": [
    {
     "name": "stdout",
     "output_type": "stream",
     "text": [
      "Hi, what's your name?\n"
     ]
    },
    {
     "name": "stdin",
     "output_type": "stream",
     "text": [
      " Seven\n"
     ]
    },
    {
     "name": "stdout",
     "output_type": "stream",
     "text": [
      "Hello, Seven! Glad to see you!\n"
     ]
    }
   ],
   "source": [
    "h = Hello()\n",
    "h.run()"
   ]
  },
  {
   "cell_type": "code",
   "execution_count": 19,
   "id": "55eef6c8-85d6-4ecc-8f0e-76434fa22e6f",
   "metadata": {},
   "outputs": [],
   "source": [
    "class Feeling:\n",
    "    def run(self):\n",
    "        print(\"How are you feeling today?\")\n",
    "        feeling = input()\n",
    "        if ('good' in feeling.lower()) or ('great' in feeling.lower()):\n",
    "            print(\"I'm feeling good too.\")\n",
    "        else:\n",
    "            print('Oh, sorry to hear that.')"
   ]
  },
  {
   "cell_type": "code",
   "execution_count": 20,
   "id": "3180610d-5ce6-4fa4-87a5-2b79d11135f1",
   "metadata": {},
   "outputs": [
    {
     "name": "stdout",
     "output_type": "stream",
     "text": [
      "How are you feeling today?\n"
     ]
    },
    {
     "name": "stdin",
     "output_type": "stream",
     "text": [
      " great\n"
     ]
    },
    {
     "name": "stdout",
     "output_type": "stream",
     "text": [
      "I'm feeling good too.\n"
     ]
    }
   ],
   "source": [
    "f = Feeling()\n",
    "f.run()"
   ]
  },
  {
   "cell_type": "code",
   "execution_count": 6,
   "id": "a7a429ff-b720-4080-91ec-5b35e1a34d23",
   "metadata": {},
   "outputs": [],
   "source": [
    "class Bot:\n",
    "    def __init__(self):\n",
    "        self.q = ''\n",
    "\n",
    "    def _think(self, s):\n",
    "        return s\n",
    "\n",
    "    def run(self):\n",
    "        print(self.q)\n",
    "        self.a = input()\n",
    "        print(self._think(self.a))"
   ]
  },
  {
   "cell_type": "code",
   "execution_count": 7,
   "id": "a4199170-4b20-4d6b-8c2b-28a70afa0bc9",
   "metadata": {},
   "outputs": [],
   "source": [
    "class HelloBot(Bot):\n",
    "    def __init__(self):\n",
    "        self.q = \"Hi, what's your name?\"\n",
    "\n",
    "    def _think(self, s):\n",
    "        return f\"Hello, {s}! Glad to see you!\"\n",
    "\n",
    "class FeelingBot(Bot):\n",
    "    def __init__(self):\n",
    "        self.q = \"How are you feeling today?\"\n",
    "\n",
    "    def _think(self, s):\n",
    "        if ('good' in s.lower()) or ('great' in s.lower()):\n",
    "            return \"I'm feeling good too!\"\n",
    "        else:\n",
    "            return 'Oh, sorry to hear that.'\n",
    "\n",
    "class FavcolorBot(Bot):\n",
    "    def __init__(self):\n",
    "        self.q = \"What's your favorite color?\"\n",
    "\n",
    "    def _think(self, s):\n",
    "        colors = ['red', 'orange', 'yellow', 'green', 'blue', 'indigo', 'purple']\n",
    "        return f\"You like {s.lower()}? What a nice color! My favorite color is {random.choice(colors)}.\""
   ]
  },
  {
   "cell_type": "code",
   "execution_count": 8,
   "id": "166134a3-d340-4284-b94f-cd645c88895d",
   "metadata": {},
   "outputs": [],
   "source": [
    "class Garfield:\n",
    "    def __init__(self):\n",
    "        self.bots = []\n",
    "\n",
    "    def add(self, bot):\n",
    "        self.bots.append(bot)\n",
    "        \n",
    "    def run(self):\n",
    "        print(\"This is Garfield dialog system. Feel free to talk.\")\n",
    "        print()\n",
    "\n",
    "        for bot in self.bots:\n",
    "            bot.run()"
   ]
  },
  {
   "cell_type": "code",
   "execution_count": 11,
   "id": "3b97db83-7169-4ed2-81ef-436bcd38029c",
   "metadata": {},
   "outputs": [
    {
     "name": "stdout",
     "output_type": "stream",
     "text": [
      "This is Garfield dialog system. Feel free to talk.\n",
      "\n",
      "Hi, what's your name?\n"
     ]
    },
    {
     "name": "stdin",
     "output_type": "stream",
     "text": [
      " Seven\n"
     ]
    },
    {
     "name": "stdout",
     "output_type": "stream",
     "text": [
      "Hello, Seven! Glad to see you!\n",
      "How are you feeling today?\n"
     ]
    },
    {
     "name": "stdin",
     "output_type": "stream",
     "text": [
      " good\n"
     ]
    },
    {
     "name": "stdout",
     "output_type": "stream",
     "text": [
      "I'm feeling good too!\n",
      "What's your favorite color?\n"
     ]
    },
    {
     "name": "stdin",
     "output_type": "stream",
     "text": [
      " blue\n"
     ]
    },
    {
     "name": "stdout",
     "output_type": "stream",
     "text": [
      "You like blue? What a nice color! My favorite color is orange.\n"
     ]
    }
   ],
   "source": [
    "garfield = Garfield()\n",
    "garfield.add(HelloBot())\n",
    "garfield.add(FeelingBot())\n",
    "garfield.add(FavcolorBot())\n",
    "garfield.run()"
   ]
  },
  {
   "cell_type": "code",
   "execution_count": 12,
   "id": "ffa25d80-729a-469a-8bbd-3962aec4693f",
   "metadata": {},
   "outputs": [
    {
     "name": "stdout",
     "output_type": "stream",
     "text": [
      "[]\n",
      "<class 'list'>\n",
      "0\n"
     ]
    }
   ],
   "source": [
    "lst = []\n",
    "print(lst)\n",
    "print(type(lst))\n",
    "print(len(lst))"
   ]
  },
  {
   "cell_type": "code",
   "execution_count": 13,
   "id": "1ab1a045-8552-4620-9944-b54c19701bef",
   "metadata": {},
   "outputs": [
    {
     "name": "stdout",
     "output_type": "stream",
     "text": [
      "['red']\n",
      "<class 'list'>\n",
      "1\n"
     ]
    }
   ],
   "source": [
    "lst.append('red')\n",
    "print(lst)\n",
    "print(type(lst))\n",
    "print(len(lst))"
   ]
  },
  {
   "cell_type": "code",
   "execution_count": 16,
   "id": "032381ae-90d9-431d-bc2f-9079c8be3103",
   "metadata": {},
   "outputs": [
    {
     "name": "stdout",
     "output_type": "stream",
     "text": [
      "['red', 'blue', 'blue']\n",
      "<class 'list'>\n",
      "3\n"
     ]
    }
   ],
   "source": [
    "lst.append('blue')\n",
    "print(lst)\n",
    "print(type(lst))\n",
    "print(len(lst))"
   ]
  },
  {
   "cell_type": "code",
   "execution_count": 17,
   "id": "fa632728-3275-41b6-a4fa-bf8f4ae0a0e9",
   "metadata": {},
   "outputs": [
    {
     "name": "stdout",
     "output_type": "stream",
     "text": [
      "red\n",
      "blue\n",
      "blue\n"
     ]
    }
   ],
   "source": [
    "for l in lst:\n",
    "    print(l)"
   ]
  },
  {
   "cell_type": "code",
   "execution_count": null,
   "id": "880d10a9-e803-4e74-b103-e1516e013ef6",
   "metadata": {},
   "outputs": [],
   "source": []
  }
 ],
 "metadata": {
  "kernelspec": {
   "display_name": "Python 3 (ipykernel)",
   "language": "python",
   "name": "python3"
  },
  "language_info": {
   "codemirror_mode": {
    "name": "ipython",
    "version": 3
   },
   "file_extension": ".py",
   "mimetype": "text/x-python",
   "name": "python",
   "nbconvert_exporter": "python",
   "pygments_lexer": "ipython3",
   "version": "3.11.4"
  }
 },
 "nbformat": 4,
 "nbformat_minor": 5
}
